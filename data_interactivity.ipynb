{
  "cells": [
    {
      "cell_type": "markdown",
      "source": [
        "TODO: Click on the badge, then `Copy to Drive` before continuing."
      ],
      "metadata": {
        "id": "ClLOQpK1CBWZ"
      }
    },
    {
      "cell_type": "markdown",
      "source": [
        "\n",
        "TODO: double click and replace this text with your name"
      ],
      "metadata": {
        "id": "4aTYdKaRCAQs"
      }
    },
    {
      "cell_type": "markdown",
      "source": [
        "[![Open In Colab](https://colab.research.google.com/assets/colab-badge.svg)](https://githubtocolab.com/allegheny-college-cmpsc-105-spring-2025/data-interactivity-starter/blob/main/data_interactivity.ipynb)"
      ],
      "metadata": {
        "id": "3CSdVdx2B7hN"
      }
    },
    {
      "cell_type": "markdown",
      "source": [
        "# Data Interactivity Lab\n",
        "\n",
        "---\n",
        "\n",
        "In this lab, you will explore [World Happiness Data](https://zenodo.org/records/14826965). The World Happiness Report Team annually collects data from individuals around the world about their level of happiness and other judgements they make about their life. The team analyzes those data and produces reports that relate happiness ratings to other life factors. See their work for further details (https://worldhappiness.report/)\n",
        "\n",
        "What is in this CMPSC 105 lab has already been de-identified and aggregated by country of residence. While this is not the raw data, there are still many mysteries contained within.\n",
        "\n",
        "Your job is to make interactive displays that facilitate data exploration and lead to insights through visual comparisons.\n",
        "\n",
        "In this lab, you have access to happiness data for approximately 155 locations over 5 years, 2015-2019. For each location and each year, there are several additional variables such as the Happiness Rank, Happiness Score, GDP per capita, Average social support, Average healthy life expectancy, Average freedom to make life choices, Average generosity level, and Average perceptions of corruption.\n",
        "\n",
        "The variables for the five years likely have similar definitions to those quoted below from https://worldhappiness.report/ed/2023/world-happiness-trust-and-social-connections-in-times-of-crisis/:\n",
        "\n",
        "\n",
        ">GDP per capita is in terms of Purchasing Power Parity (PPP) adjusted to constant 2017 international dollars, taken from the World Development Indicators (WDI) by the World Bank (version 17, metadata last updated on January 22, 2023). See Statistical Appendix 1 for more details. GDP data for 2022 are not yet available, so we extend the GDP time series from 2021 to 2022 using country-specific forecasts of real GDP growth from the OECD Economic Outlook No. 112 (November 2022) or, if missing, from the World Bank’s Global Economic Prospects (last updated: January 10, 2023), after adjustment for population growth. The equation uses the natural log of GDP per capita, as this form fits the data significantly better than GDP per capita.\n",
        "\n",
        ">The time series for healthy life expectancy at birth are constructed based on data from the World Health Organization (WHO) Global Health Observatory data repository, with data available for 2005, 2010, 2015, 2016, and 2019. To match this report’s sample period (2005-2022), interpolation and extrapolation are used. See Statistical Appendix 1 for more details.\n",
        "\n",
        ">Social support is the national average of the binary responses (0=no, 1=yes) to the Gallup World Poll (GWP) question “If you were in trouble, do you have relatives or friends you can count on to help you whenever you need them, or not?”\n",
        "\n",
        ">Freedom to make life choices is the national average of binary responses to the GWP question “Are you satisfied or dissatisfied with your freedom to choose what you do with your life?”\n",
        "\n",
        ">Generosity is the residual of regressing the national average of GWP responses to the donation question “Have you donated money to a charity in the past month?” on log GDP per capita.\n",
        "\n",
        ">Perceptions of corruption are the average of binary answers to two GWP questions: “Is corruption widespread throughout the government or not?” and “Is corruption widespread within businesses or not?” Where data for government corruption are missing, the perception of business corruption is used as the overall corruption-perception measure.\n",
        "\n",
        "Code is provided to load in the dataset into a Pandas dataframe called `dfwh`. The column names for the dataframe are `Country,Happiness Rank,Happiness Score,GDP per capita,Social support,Healthy life expectancy,Freedom to make life choices,Generosity,Perceptions of corruption,Year`. The raw data can be viewed here:\n",
        "\n",
        "- https://raw.githubusercontent.com/allegheny-college-cmpsc-105-spring-2025/data-interactivity-starter/refs/heads/main/data/world-happiness-2015-2019-zenodo-14826965.csv\n",
        "\n",
        "## Goals\n",
        "\n",
        "Your goal is to use data filtering and interactivity techniques to isolate specific parts of the data, and then make visual comparisons\n",
        "\n",
        "1. As a warm-up, explore the precoded figure.\n",
        "2. Then do the follow-up explorations to gain additional understanding of the relationships between the GDP and happiness using two chart types.\n",
        "\n",
        "Don't forget to answer all `T O D O` markers and to remove the markers.\n",
        "\n",
        "## Deadline\n",
        "\n",
        "This lab should be completed during the lab meeting time, but modifations may be made until the official deadline of 2:30pm on Feb 20th.\n",
        "\n",
        "## Learning Outcomes\n",
        "\n",
        "By completing this lab you will\n",
        "\n",
        "- explore a dataset with interactive filtering\n",
        "- write a report in a markdown cell\n",
        "- update a GitHub Repository\n",
        "- check gatorgrade in GitHub Actions\n",
        "\n",
        "## Reminders\n",
        "\n",
        "- If needed, one of four available automatic extension tokens can be applied by using the form on found on the course syllabus.\n",
        "- If you have a question, post in the 105 Discord channel.\n",
        "- Refer to previous materials to learn how to use Notebooks in Google Colab, make your work accessible, submit, and check your work.\n",
        "\n",
        "## Saving Your Work\n",
        "\n",
        "Saving your work and making it accessible is a required part of all labs.\n",
        "\n",
        "### Accessability Part 1\n",
        "\n",
        "Update the Colab file name to be `data_interactivity.ipynb`.\n",
        "\n",
        "Make sure that all cells have been executed and are SHOWING their outputs.\n",
        "\n",
        "### Saving\n",
        "\n",
        "I would recommend a workflow of `Copy to Drive --> editing/running/testing --> downloading`. You should have already hit `Copy to Drive`, but if you haven't, then please do so now. Then go ahead and download the file from the menu at the top of the Colab interface. File > Download > Download ipynb\n",
        "\n",
        "### Accessibility Part 2\n",
        "\n",
        "If you are satisfied with your work, you can now upload the downloaded file to your GitHub repo!\n",
        "\n",
        "- Use GitHub to upload the file.\n",
        "  - Next to the green code button in GitHub, you will see an `add file` button. Click that, then choose the downloaded notebook from your computer.\n",
        "\n",
        "## Checking Your Work\n",
        "\n",
        "### Check your file output\n",
        "\n",
        "Once your file is uploaded, please open it on GitHub. All the outputs and plots should be showing. If they are not showing, this means that not all code cells were executed before you downloaded your file.\n",
        "\n",
        "### Check GitHub Actions\n",
        "\n",
        "In GitHub, go to the Actions tab. Click on the top Action to see a report about your T O D Os. If the T O D Os have been done and deleted, then the actions will show that gatorgrade reports 100%. This is not your grade, but it is a good indication that you did not forget to do something.\n",
        "\n",
        "If you see remaining T O D Os, then you may want to edit and update your file."
      ],
      "metadata": {
        "id": "hnptErUoAnkF"
      }
    },
    {
      "cell_type": "markdown",
      "source": [
        "## Warmup"
      ],
      "metadata": {
        "id": "mPmVNNKwDaxl"
      }
    },
    {
      "cell_type": "code",
      "source": [
        "# This code cell makes pre-existing tools available for data exploration\n",
        "\n",
        "import pandas as pd\n",
        "import matplotlib.pyplot as plt\n",
        "from ipywidgets import interact # pre existing code for interaction"
      ],
      "metadata": {
        "id": "ceMTYBIDgQl_"
      },
      "execution_count": null,
      "outputs": []
    },
    {
      "cell_type": "code",
      "execution_count": null,
      "metadata": {
        "id": "O0gbu0yedSC9",
        "collapsed": true
      },
      "outputs": [],
      "source": [
        "# TODO: Run this code cell that creates a pandas dataframe for Meadville\n",
        "\n",
        "dfwh = pd.read_csv(\n",
        "    'https://raw.githubusercontent.com/allegheny-college-cmpsc-105-spring-2025/data-interactivity-starter/refs/heads/main/data/world-happiness-2015-2019-zenodo-14826965.csv',\n",
        "    sep=',',\n",
        "    names = ['Country',\n",
        "             'Happiness Rank',\n",
        "             'Happiness Score',\n",
        "             'GDP per capita',\n",
        "             'Social support',\n",
        "             'Healthy life expectancy',\n",
        "             'Freedom to make life choices',\n",
        "             'Generosity',\n",
        "             'Perceptions of corruption',\n",
        "             'Year'],\n",
        "    skiprows=1\n",
        ")\n",
        "\n",
        "print(dfwh.head()) # Display the first few rows of the DataFrame"
      ]
    },
    {
      "cell_type": "code",
      "source": [
        "### Please answer these questions before continuing.\n",
        "\n",
        "# TODO: How many rows of data are there for dfwh (HINT: The answer is not 5)\n",
        "# TODO: How many columns of data are there for dfwh?\n",
        "# TODO: What is the range of the GDP column?\n",
        "# TODO: According to the definition given above, what transformation has been done to GDP?"
      ],
      "metadata": {
        "id": "L_yvY48eKVma"
      },
      "execution_count": null,
      "outputs": []
    },
    {
      "cell_type": "code",
      "source": [
        "# The code below defines a plotting function that makes two subplots.\n",
        "# TODO: Run this code. Briefly explain why nothing happens\n",
        "# TODO: Looking at the code and the axis labels, fill in a suptitle (super title) for the figure\n",
        "\n",
        "\n",
        "# Clear out memory (doesn't impact the visualization, but keeps the computer happy)\n",
        "plt.close('all')\n",
        "\n",
        "# predefine some useful masks\n",
        "mask_2015 = dfwh['Year'] == 2015 # this marks rows from 2015 as True, all others False\n",
        "mask_2016 = dfwh['Year'] == 2016\n",
        "mask_2017 = dfwh['Year'] == 2017\n",
        "mask_2018 = dfwh['Year'] == 2018\n",
        "mask_2019 = dfwh['Year'] == 2019\n",
        "\n",
        "def plot_happiness_rank(hrank1, hrank2):\n",
        "\n",
        "  mask_hrank1 = dfwh['Happiness Rank'] == hrank1\n",
        "\n",
        "  mask_hrank2 = dfwh['Happiness Rank'] == hrank2\n",
        "\n",
        "  # make a blank canvas\n",
        "  plt.figure(figsize=(12, 4))\n",
        "  # TODO: make a super title starting with 'Figure 1:' Fill in a relevant title\n",
        "  plt.suptitle('Figure 1: TODO')\n",
        "\n",
        "  # subplot 1\n",
        "  plt.subplot(1,2,1)\n",
        "  plt.title(f'Ranking {hrank1}')\n",
        "  plt.bar(dfwh.loc[mask_hrank1 & mask_2015,'Year'],\n",
        "          dfwh.loc[mask_hrank1 & mask_2015,'Happiness Score'],\n",
        "          label=dfwh.loc[mask_hrank1 & mask_2015,'Country']) # layer 1\n",
        "  plt.bar(dfwh.loc[mask_hrank1 & mask_2016,'Year'],\n",
        "          dfwh.loc[mask_hrank1 & mask_2016,'Happiness Score'],\n",
        "          label=dfwh.loc[mask_hrank1 & mask_2016,'Country']) # layer 2\n",
        "  plt.bar(dfwh.loc[mask_hrank1 & mask_2017,'Year'],\n",
        "          dfwh.loc[mask_hrank1 & mask_2017,'Happiness Score'],\n",
        "          label=dfwh.loc[mask_hrank1 & mask_2017,'Country']) # layer 3\n",
        "  plt.bar(dfwh.loc[mask_hrank1 & mask_2018,'Year'],\n",
        "          dfwh.loc[mask_hrank1 & mask_2018,'Happiness Score'],\n",
        "          label=dfwh.loc[mask_hrank1 & mask_2018,'Country']) # layer 4\n",
        "  plt.bar(dfwh.loc[mask_hrank1 & mask_2019,'Year'],\n",
        "          dfwh.loc[mask_hrank1 & mask_2019,'Happiness Score'],\n",
        "          label=dfwh.loc[mask_hrank1 & mask_2019,'Country']) # layer 5\n",
        "\n",
        "  plt.legend()\n",
        "  plt.xlabel('Year')\n",
        "  plt.ylabel('Happiness Score')\n",
        "  plt.ylim(0, 10)\n",
        "\n",
        "\n",
        "  # subplot 2\n",
        "  plt.subplot(1,2,2)\n",
        "  plt.title(f'Ranking {hrank2}')\n",
        "  plt.bar(dfwh.loc[mask_hrank2 & mask_2015,'Year'],\n",
        "          dfwh.loc[mask_hrank2 & mask_2015,'Happiness Score'],\n",
        "          label=dfwh.loc[mask_hrank2 & mask_2015,'Country']) # layer 1\n",
        "  plt.bar(dfwh.loc[mask_hrank2 & mask_2016,'Year'],\n",
        "          dfwh.loc[mask_hrank2 & mask_2016,'Happiness Score'],\n",
        "          label=dfwh.loc[mask_hrank2 & mask_2016,'Country']) # layer 2\n",
        "  plt.bar(dfwh.loc[mask_hrank2 & mask_2017,'Year'],\n",
        "          dfwh.loc[mask_hrank2 & mask_2017,'Happiness Score'],\n",
        "          label=dfwh.loc[mask_hrank2 & mask_2017,'Country']) # layer 3\n",
        "  plt.bar(dfwh.loc[mask_hrank2 & mask_2018,'Year'],\n",
        "          dfwh.loc[mask_hrank2 & mask_2018,'Happiness Score'],\n",
        "          label=dfwh.loc[mask_hrank2 & mask_2018,'Country']) # layer 4\n",
        "  plt.bar(dfwh.loc[mask_hrank2 & mask_2019,'Year'],\n",
        "          dfwh.loc[mask_hrank2 & mask_2019,'Happiness Score'],\n",
        "          label=dfwh.loc[mask_hrank2 & mask_2019,'Country']) # layer 5\n",
        "\n",
        "  plt.legend()\n",
        "  plt.xlabel('Year')\n",
        "  plt.ylabel('Happiness Score')\n",
        "  plt.ylim(0, 10)\n",
        "\n",
        "  # reveal everything whenever the plotting function is called\n",
        "  plt.show()"
      ],
      "metadata": {
        "id": "EWLP5t61NQLe"
      },
      "execution_count": null,
      "outputs": []
    },
    {
      "cell_type": "code",
      "source": [
        "# This code sets up ranges over which hrank1 and hrank2 are adjustable!\n",
        "# TODO: Run this cell\n",
        "\n",
        "interact(plot_happiness_rank, hrank1=(1,156,1), hrank2=(1,156,1))"
      ],
      "metadata": {
        "id": "rwHGAWq3446g"
      },
      "execution_count": null,
      "outputs": []
    },
    {
      "cell_type": "code",
      "source": [
        "### Please answer these questions before continuing.\n",
        "\n",
        "# Based on the code above:\n",
        "# TODO: What column does mask_2015 base the comparison on and why?\n",
        "# TODO: What column does mask_2016 base the comparison on and why?\n",
        "# TODO: Why could those masks not reference a different column?\n",
        "# TODO: What is the difference in code between subplot 1 and subplot 2\n",
        "# TODO: What visually happens if you remove the y axis limits in the code from both subplots?\n",
        "# TODO: The data are still accurate, but explain why the figure is less impactful\n",
        "# TODO: Bring back the plt.ylim(0,10) for both subplots.\n",
        "\n",
        "# Interact:\n",
        "# TODO: Can you find any data inconsistencies? What?\n",
        "# TODO: Adjust the hrank sliders until you find an interesting visual comparison\n",
        "# TODO: Explain what you see, why what you see is interesting, and the slider settings required\n",
        "# TODO: Move this explanation into your report later."
      ],
      "metadata": {
        "id": "memRiDEAKRNB"
      },
      "execution_count": null,
      "outputs": []
    },
    {
      "cell_type": "code",
      "source": [
        "### Please ensure that you have participated on Discord this week.\n",
        "\n",
        "# TODO: Please go to discord and see if your colleagues have posted questions.\n",
        "# If you know the answer to an unanswered question, please respond!\n",
        "# Otherwise, please post a question you have about this lab so far or a short description\n",
        "# of what you found to be the most challenging part so far."
      ],
      "metadata": {
        "id": "dLgLrbWMVQtB"
      },
      "execution_count": null,
      "outputs": []
    },
    {
      "cell_type": "markdown",
      "source": [
        "## Follow-up Exploration 1"
      ],
      "metadata": {
        "id": "WFGLf9H6Nzlk"
      }
    },
    {
      "cell_type": "code",
      "source": [
        "# Now let's do some follow-up investigations.\n",
        "\n",
        "# TODO: reuse/restructure/modify the previous code to explore how Happiness Score changes based on GDP.\n",
        "\n",
        "# For the plotting function\n",
        "# Make sure that you have given this plotting function a different name from the one above.\n",
        "# Indented under the function,\n",
        "# Make a mask to select countries with the natural log of GDP greater than a certain threshold.\n",
        "# Make a mask to select countries with the natural log of GDP smaller or equal to some other threshold.\n",
        "# The \"certain threshold\" and the \"other threshold\" should become adjustable parameters in the plotting function.\n",
        "\n",
        "# In subplot 1\n",
        "# Apply the first mask to retrieve the Happiness Score from those countries.\n",
        "# Make a historgram of those countries' Happiness Score in 10 bins.\n",
        "# You should use plt.hist and inside please specificy, bins=[1,2,3,4,5,6,7,8,9,10]\n",
        "# This historgram is the only layer!\n",
        "# Label the axes for a historgram\n",
        "# No legend is needed for this subplot\n",
        "\n",
        "# In subplot 2\n",
        "# Apply the second mask to retrieve the Happiness Score from those countries.\n",
        "# Make a historgram of those countries' Happiness Score in 10 bins.\n",
        "# You should use plt.hist and inside please specificy, bins=[1,2,3,4,5,6,7,8,9,10]\n",
        "# This historgram is the only layer!\n",
        "# Label the axes for a historgram\n",
        "# No legend is needed for this subplot\n",
        "\n",
        "\n",
        "\n",
        "\n",
        "# TODO: declare the plotting function\n",
        "\n",
        "  # TODO: mask_largeGDP = ...\n",
        "\n",
        "  # TODO: mask_smallGDP = ...\n",
        "\n",
        "\n",
        "  # TODO: make a blank canvas\n",
        "\n",
        "  # TODO: make a super title starting with 'Figure 2:' Fill in a relevant title\n",
        "\n",
        "  # subplot 1\n",
        "  plt.subplot(1,2,1)\n",
        "  # TODO: make the plot\n",
        "  # TODO: don't forget labels\n",
        "\n",
        "  # subplot 2\n",
        "  plt.subplot(1,2,2)\n",
        "  # TODO: make the plot\n",
        "  # TODO: don't forget labels\n",
        "\n",
        "  # TODO: reveal everything whenever the plotting function is called\n",
        "\n"
      ],
      "metadata": {
        "id": "qUS0K7xqOvRE"
      },
      "execution_count": null,
      "outputs": []
    },
    {
      "cell_type": "code",
      "source": [
        "# After the function definition\n",
        "# Use the `interact` function to run your plotting function interactively!\n",
        "# You will have to pass in the name of the plotting function\n",
        "# You will also have to pass in the two threshold parameters and appropriate ranges\n",
        "# You can find the range by making a simple plot of the GDP column, or by looking at the raw data\n",
        "\n",
        "\n",
        "# Take a looks at your output, and make any adjustments needed in the plotting function or sliders\n",
        "# For valid comparison, be sure to set x limits and y limits to avoid showing misleading visuals!\n",
        "\n",
        "# TODO: Adjust the threshold sliders until you find an interesting visual comparison\n",
        "# TODO: Explain what you see, why what you see is interesting, and the slider settings required\n",
        "# TODO: Move this explanation into your report later.\n"
      ],
      "metadata": {
        "id": "uZZxtJauJ3IG"
      },
      "execution_count": null,
      "outputs": []
    },
    {
      "cell_type": "markdown",
      "source": [
        "## Follow-up Exploration 2"
      ],
      "metadata": {
        "id": "uXmN5iIVr0MI"
      }
    },
    {
      "cell_type": "code",
      "source": [
        "# Now repeat the code above, but make a box plot instead.\n",
        "# This requires the plt.boxplot function.\n",
        "# Bins are no longer needed\n",
        "# Adjust the axis labels\n"
      ],
      "metadata": {
        "id": "RUNYSHp_Ovb4"
      },
      "execution_count": null,
      "outputs": []
    },
    {
      "cell_type": "code",
      "source": [
        "# After the function definition\n",
        "# Use the `interact` function to run your plotting function interactively!\n",
        "# You will have to pass in the name of the plotting function\n",
        "# You will also have to pass in the two threshold parameters and appropriate ranges\n",
        "# You can find the range by making a simple plot of the GDP column, or by looking at the raw data\n",
        "\n",
        "# Take a look at your output, and make any adjustments needed in the plotting function or sliders\n",
        "# For valid comparison, be sure to set x limits and y limits as needed to avoid showing misleading visuals!\n",
        "\n",
        "# TODO: Adjust the threshold sliders until you get the same visual comparison as with the histogram.\n",
        "# TODO: Explain what you see, the slider settings required, and how it connects to the histogram representation\n",
        "# TODO: Move this explanation into your report later."
      ],
      "metadata": {
        "id": "VNzmmvVIP1il"
      },
      "execution_count": null,
      "outputs": []
    },
    {
      "cell_type": "markdown",
      "source": [
        "## Report"
      ],
      "metadata": {
        "id": "DasJE_AmUkZ9"
      }
    },
    {
      "cell_type": "markdown",
      "source": [
        "### What this was lab about\n",
        "\n",
        "TODO: Briefly summarize what this lab was about and what you did at a high level.\n",
        "\n",
        "### Methods\n",
        "\n",
        "TODO: Briefly talk about the methods you used to explore the data and any specific functions that helped reveal the patterns.\n",
        "\n",
        "### What was found\n",
        "\n",
        "TODO: Briefly restate what you found out about World Happiness by exploring the data. Please refer to the figures you made above. For example, \"As shown in figure 1...\"\n",
        "\n",
        "### Future directions\n",
        "\n",
        "TODO: Briefly state what could be explored within the data in the future, building on what you already did. Your answer must be something that you could actually do with the data, related to this lab.\n",
        "\n"
      ],
      "metadata": {
        "id": "Wg1a7t-MUiOy"
      }
    }
  ],
  "metadata": {
    "colab": {
      "provenance": []
    },
    "kernelspec": {
      "display_name": "Python 3",
      "name": "python3"
    },
    "language_info": {
      "name": "python"
    }
  },
  "nbformat": 4,
  "nbformat_minor": 0
}
